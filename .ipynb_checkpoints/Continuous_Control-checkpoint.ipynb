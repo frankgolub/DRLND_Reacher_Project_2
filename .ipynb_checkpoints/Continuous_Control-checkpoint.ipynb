{
 "cells": [
  {
   "cell_type": "markdown",
   "metadata": {},
   "source": [
    "# Deep Deterministic Policy Gradient (DDPG)\n",
    "---\n",
    "This notebook implements a DDPG agent with Unity's Udacity-modified Reacher environment.\n",
    "\n",
    "### 1. Import the Necessary Packages"
   ]
  },
  {
   "cell_type": "code",
   "execution_count": 1,
   "metadata": {},
   "outputs": [],
   "source": [
    "#import gym\n",
    "import random\n",
    "import torch\n",
    "import numpy as np\n",
    "from collections import deque\n",
    "import matplotlib.pyplot as plt\n",
    "%matplotlib inline\n",
    "import time   "
   ]
  },
  {
   "cell_type": "markdown",
   "metadata": {},
   "source": [
    "### 2. Instantiate the Environment and Agent\n",
    "\n",
    "Initialize the environment in the code cell below. \n",
    "\n",
    "Change the __*visible_environment*__ variable to enable training with (True) or without (False) a visible environment.\n",
    "\n",
    "The output below indicates the utilization of a cpu or a gpu."
   ]
  },
  {
   "cell_type": "code",
   "execution_count": 2,
   "metadata": {
    "scrolled": true
   },
   "outputs": [
    {
     "name": "stderr",
     "output_type": "stream",
     "text": [
      "INFO:unityagents:\n",
      "'Academy' started successfully!\n",
      "Unity Academy name: Academy\n",
      "        Number of Brains: 1\n",
      "        Number of External Brains : 1\n",
      "        Lesson number : 0\n",
      "        Reset Parameters :\n",
      "\t\tgoal_size -> 5.0\n",
      "\t\tgoal_speed -> 1.0\n",
      "Unity brain name: ReacherBrain\n",
      "        Number of Visual Observations (per agent): 0\n",
      "        Vector Observation space type: continuous\n",
      "        Vector Observation space size (per agent): 33\n",
      "        Number of stacked Vector Observation: 1\n",
      "        Vector Action space type: continuous\n",
      "        Vector Action space size (per agent): 4\n",
      "        Vector Action descriptions: , , , \n"
     ]
    }
   ],
   "source": [
    "from unityagents import UnityEnvironment\n",
    "\n",
    "# set these parameters\n",
    "visible_environment = False \n",
    "one_agent = False # if false, then 20 agent environment\n",
    "\n",
    "if visible_environment == True and one_agent == True:\n",
    "    env = UnityEnvironment(file_name='../unity_environments/Reacher/Vis_one_agent/Reacher.x86_64')\n",
    "elif visible_environment == False and one_agent == True:\n",
    "    env = UnityEnvironment(file_name='../unity_environments/Reacher/NoVis_one_agent/Reacher.x86_64')\n",
    "elif visible_environment == True and one_agent == False:\n",
    "    env = UnityEnvironment(file_name='../unity_environments/Reacher/Vis_20_agents/Reacher.x86_64')\n",
    "elif visible_environment == False and one_agent == False:\n",
    "    env = UnityEnvironment(file_name='../unity_environments/Reacher/NoVis_20_agents/Reacher.x86_64')    \n",
    "# get the default brain\n",
    "brain_name = env.brain_names[0]\n",
    "brain = env.brains[brain_name]\n",
    "\n",
    "# reset the environment\n",
    "env_info = env.reset(train_mode=True)[brain_name]\n",
    "\n",
    "# number of agents\n",
    "num_agents = len(env_info.agents)\n",
    "\n",
    "# number of actions and states\n",
    "action_size = brain.vector_action_space_size\n",
    "\n",
    "states = env_info.vector_observations\n",
    "state_size = states.shape[1]\n"
   ]
  },
  {
   "cell_type": "markdown",
   "metadata": {},
   "source": [
    "### 2a. Hyperparameter Search\n"
   ]
  },
  {
   "cell_type": "code",
   "execution_count": 3,
   "metadata": {},
   "outputs": [
    {
     "name": "stdout",
     "output_type": "stream",
     "text": [
      "device =  cuda:0\n"
     ]
    }
   ],
   "source": [
    "random.seed(32)\n",
    "\n",
    "BUFFER_SIZE = [10 ** random.uniform(a=6, b=6) for x in range(0, 100)]       # replay buffer size\n",
    "BATCH_SIZE = [2** random.randint(a=7, b=7) for x in range(0, 100)]         # minibatch size\n",
    "GAMMA = [random.uniform(a=0.99, b=0.99) for x in range(0, 100)]                 # discount factor\n",
    "TAU = [10 ** random.uniform(a=-2, b=-2) for x in range(0, 100)]               # for soft update of target parameters\n",
    "LR_ACTOR = [10 ** random.uniform(a=-3.1, b=-2.9) for x in range(0, 100)]             # learning rate of the actor \n",
    "LR_CRITIC = [3*(10 ** random.uniform(a=-4.1, b=-3.9)) for x in range(0, 100)]            # learning rate of the critic\n",
    "WEIGHT_DECAY = np.zeros(100) # 0.0001   # L2 weight decay\n",
    "\n",
    "\n",
    "from ddpg_agent import Agent"
   ]
  },
  {
   "cell_type": "markdown",
   "metadata": {},
   "source": [
    "### 3. Train the Agent with DDPG\n",
    "\n",
    "Run the code cell below to train the agent from scratch.\n",
    "\n",
    "Alternatively, **skip** to the next step below (**4. Watch a Smart Agent!**), to load the saved model weights from a pre-trained agent."
   ]
  },
  {
   "cell_type": "code",
   "execution_count": 4,
   "metadata": {},
   "outputs": [
    {
     "ename": "IndentationError",
     "evalue": "expected an indented block (<ipython-input-4-bf5b5258c357>, line 84)",
     "output_type": "error",
     "traceback": [
      "\u001b[0;36m  File \u001b[0;32m\"<ipython-input-4-bf5b5258c357>\"\u001b[0;36m, line \u001b[0;32m84\u001b[0m\n\u001b[0;31m    print(['buffer_size = ', int(BUFFER_SIZE), 'batch_size = ', int(BATCH_SIZE), 'gamma=', GAMMA,\u001b[0m\n\u001b[0m        ^\u001b[0m\n\u001b[0;31mIndentationError\u001b[0m\u001b[0;31m:\u001b[0m expected an indented block\n"
     ]
    }
   ],
   "source": [
    "def plot_scores(scores, fig_indicator=\"normal\"):\n",
    "    fig = plt.figure()\n",
    "    ax = fig.add_subplot(111)\n",
    "    plt.plot(np.arange(len(scores)), scores)\n",
    "    plt.ylabel('Score')\n",
    "    plt.xlabel('Episode #')\n",
    "    plt.ylim((-4, 24))\n",
    "    plt.show()\n",
    "    \n",
    "    fig_name = \"Results/Figure_\" + fig_indicator + \".png\"\n",
    "    fig.savefig(fig_name)\n",
    "    \n",
    "    np.save(\"Results/scores_\" + fig_indicator + \".npy\", scores)\n",
    "    \n",
    "\n",
    "def ddpg(n_episodes=2000, max_t=700):\n",
    "    scores_deque = deque(maxlen=100)\n",
    "    scores = []\n",
    "    max_score = -np.Inf\n",
    "    \n",
    "    tt = time.time()\n",
    "    for i_episode in range(1, n_episodes+1):\n",
    "        env_info = env.reset(train_mode=True)[brain_name]      # reset the environment    \n",
    "        states = env_info.vector_observations                  # get the current state (for each agent)\n",
    "        agent.reset()\n",
    "        score = np.zeros(num_agents)                          # initialize the score (for each agent)\n",
    "        for t in range(max_t):\n",
    "            \n",
    "            actions = agent.act(states)\n",
    "            env_info = env.step(actions)[brain_name]        # send the action to the environment\n",
    "\n",
    "            next_states = env_info.vector_observations   # get the next state\n",
    "            rewards = env_info.rewards                   # get the reward\n",
    "            dones = env_info.local_done                  # see if episode has finished\n",
    "            agent.step(states, actions, rewards, next_states, dones)\n",
    "            states = next_states\n",
    "            score += rewards\n",
    "            \n",
    "            if np.any(dones):\n",
    "                break \n",
    "        scores_deque.append(np.mean(score))\n",
    "        scores.append(np.mean(score))\n",
    "        \n",
    "        \"\"\"\n",
    "        if i_episode == 300:\n",
    "            for param_group in agent.actor_optimizer.param_groups:\n",
    "                param_group['lr'] = 1e-4 # 1e-3\n",
    "\n",
    "            for param_group in agent.critic_optimizer.param_groups:\n",
    "                param_group['lr'] = 1e-4 #3e-4    \n",
    "        \n",
    "            agent.TAU = 1e-2\n",
    "        \"\"\"\n",
    "        \n",
    "        print('\\rEpisode {}\\tAverage Score: {:.2f}'.format(i_episode, np.mean(scores_deque)))   \n",
    "        if i_episode % 100 == 0 or np.mean(scores_deque) >= 30.0:\n",
    "            print('\\rEpisode {}\\tAverage Score: {:.2f}'.format(i_episode, np.mean(scores_deque)))   \n",
    "            torch.save(agent.actor_local.state_dict(), 'checkpoint_actor.pth')\n",
    "            torch.save(agent.critic_local.state_dict(), 'checkpoint_critic.pth')\n",
    "            elapsed = time.time() - tt # https://stackoverflow.com/questions/5849800/what-is-the-python-equivalent-of-matlabs-tic-and-toc-functions\n",
    "            print('\\t Elapsed Time: {:.2f}'.format(elapsed), 'seconds')\n",
    "        if np.mean(scores_deque)>=30.0:\n",
    "            print('\\nEnvironment solved in {:d} episodes!\\tAverage Score: {:.2f}'.format(i_episode, np.mean(scores_deque)))\n",
    "            torch.save(agent.actor_local.state_dict(), 'checkpoint_actor.pth')\n",
    "            torch.save(agent.critic_local.state_dict(), 'checkpoint_critic.pth')\n",
    "            break \n",
    "        if (i_episode == 10 and np.mean(scores_deque) < 0.3):\n",
    "            break\n",
    "            \n",
    "    return scores    \n",
    "\n",
    "for ii in range(1, 2):\n",
    "    print('ii = ', ii)\n",
    "\n",
    "    \n",
    "    BUFFER_SIZE = int(1e6)\n",
    "    GAMMA = 0.99\n",
    "    TAU = 1e-3\n",
    "    WEIGHT_DECAY = 0\n",
    "    for BATCH_SIZE in [256]: #[32, 64, 128, 256, 512]:\n",
    "        for LR_ACTOR in [3e-4]:#[1e-3, 3e-4, 1e-4]:\n",
    "            for LR_CRITIC in [1e-4]:#[1e-3, 3e-4, 1e-4]:\n",
    "                for WEIGHT_DECAY in [0, 0.0001, 0.0002]:\n",
    "                    print(['buffer_size = ', int(BUFFER_SIZE), 'batch_size = ', int(BATCH_SIZE), 'gamma=', GAMMA, \n",
    "                       'tau=', TAU, 'lr_actor= ', LR_ACTOR, 'lr_critic=',LR_CRITIC, 'weight_decay=', WEIGHT_DECAY])\n",
    "                    t = time.time()\n",
    "                    agent = Agent(state_size=state_size, action_size=action_size, random_seed=0,\n",
    "                                  buffer_size=int(BUFFER_SIZE), batch_size=int(BATCH_SIZE), gamma=GAMMA, tau=TAU,\n",
    "                                   lr_actor=LR_ACTOR, lr_critic=LR_CRITIC, weight_decay=WEIGHT_DECAY)\n",
    "                    scores = ddpg(n_episodes=1500)\n",
    "                    elapsed = time.time() - t # https://stackoverflow.com/questions/5849800/what-is-the-python-equivalent-of-matlabs-tic-and-toc-functions\n",
    "                    print('\\t Time to train network: {:.2f}'.format(elapsed), 'seconds')\n",
    "\n",
    "#plot_scores(scores, fig_indicator=\"ddpg_normal_soln_final\")"
   ]
  },
  {
   "cell_type": "markdown",
   "metadata": {},
   "source": [
    "### 4. Watch a Smart Agent!\n",
    "\n",
    "The code below loads the trained weights from file to watch a smart agent. \n",
    "\n",
    "To visualize the trained environment,\n",
    " - change the __*visible_environment*__ variable to **True** in (**2. Instantiate the Environment and Agent**)\n",
    " - restart the kernel, and \n",
    " - **skip** the previous section (**3. Train the Agent with DQN**)."
   ]
  },
  {
   "cell_type": "code",
   "execution_count": null,
   "metadata": {},
   "outputs": [],
   "source": [
    "# get the default brain\n",
    "brain_name = env.brain_names[0]\n",
    "brain = env.brains[brain_name]\n",
    "\n",
    "# load the weights from file\n",
    "agent.actor_local.load_state_dict(torch.load('checkpoint_actor.pth'))\n",
    "agent.critic_local.load_state_dict(torch.load('checkpoint_critic.pth'))\n",
    "\n",
    "for i in range(1):\n",
    "    env_info = env.reset(train_mode=False)[brain_name]\n",
    "    states = env_info.vector_observations                  # get the current state (for each agent)\n",
    "    for j in range(200):\n",
    "        actions = agent.act(states)\n",
    "        env_info = env.step(actions)[brain_name]        # send the action to the environment\n",
    "        states = env_info.vector_observations\n",
    "        dones = env_info.local_done                  # see if episode has finished\n",
    "        \n",
    "        if np.any(dones):\n",
    "            break     "
   ]
  },
  {
   "cell_type": "code",
   "execution_count": null,
   "metadata": {},
   "outputs": [],
   "source": [
    "env.close()"
   ]
  }
 ],
 "metadata": {
  "kernelspec": {
   "display_name": "Python 3",
   "language": "python",
   "name": "python3"
  },
  "language_info": {
   "codemirror_mode": {
    "name": "ipython",
    "version": 3
   },
   "file_extension": ".py",
   "mimetype": "text/x-python",
   "name": "python",
   "nbconvert_exporter": "python",
   "pygments_lexer": "ipython3",
   "version": "3.6.8"
  }
 },
 "nbformat": 4,
 "nbformat_minor": 2
}
